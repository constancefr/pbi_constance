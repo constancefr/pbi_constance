{
 "cells": [
  {
   "cell_type": "code",
   "execution_count": null,
   "metadata": {},
   "outputs": [],
   "source": [
    "# You may need to install these packages first\n",
    "# %pip install pronto\n",
    "\n",
    "# handling www based requests (like APIs)\n",
    "import urllib as ul\n",
    "\n",
    "# ontology handling\n",
    "import pronto\n",
    "# standard Python data handling modules\n",
    "import pandas as pd\n",
    "import numpy as np\n",
    "# working with nicer tables\n",
    "import prettytable as PrettyTable"
   ]
  },
  {
   "cell_type": "code",
   "execution_count": null,
   "metadata": {},
   "outputs": [],
   "source": [
    "# fetch the Gene Onotlogy (GO) OBO file and parse it with pronto\n",
    "\n",
    "# download the GO ontology OBO file\n",
    "import urllib.request\n",
    "\n",
    "# download the file\n",
    "urllib.request.urlretrieve('http://purl.obolibrary.org/obo/go.obo','./resources/go.obo')\n",
    "\n",
    "# parse the file\n",
    "go = pronto.Ontology('./resources/go.obo')"
   ]
  },
  {
   "cell_type": "code",
   "execution_count": null,
   "metadata": {
    "tags": [
     "parameters"
    ]
   },
   "outputs": [],
   "source": [
    "# if we know the GO term, we can search for it\n",
    "goTerm = go['GO:0000002']\n",
    "\n",
    "# it has features GOTerm Accession, Name (Description), and the clade in GO\n",
    "print(goTerm.id, goTerm.name, goTerm.namespace)"
   ]
  },
  {
   "cell_type": "code",
   "execution_count": null,
   "metadata": {},
   "outputs": [],
   "source": [
    "# given a string of GO terms, we can search for them by accession in a simple loop\n",
    "\n",
    "# create a list of GO terms\n",
    "goTerms = ['GO:0000002', 'GO:0000003', 'GO:0000005', 'GO:0000006', 'GO:0000007']\n",
    "\n",
    "# loop through the list and print the GO term name and namespace\n",
    "for goTerm in goTerms:\n",
    "    print(f\"\",go[goTerm].name,\" clade :\",go[goTerm].namespace)"
   ]
  },
  {
   "cell_type": "code",
   "execution_count": null,
   "metadata": {},
   "outputs": [],
   "source": [
    "# we can also search for GO terms by name\n",
    "# create a list of GO term names\n",
    "goNames = ['mitochondrial genome maintenance', 'developmental process', 'apoptotic process', 'reproduction', 'cell death']\n",
    "\n",
    "# loop through the go object and compare the strings in goNames to the name attribute of the GO term\n",
    "for goTerm in go:\n",
    "    try:\n",
    "        currentTerm = go.get_term(goTerm)\n",
    "        if currentTerm.name in goNames:\n",
    "            print(f\"{currentTerm.id} {currentTerm.name} {currentTerm.namespace}\")\n",
    "    except:\n",
    "        pass\n",
    "\n",
    "# it's a little clunky (pronto wasn't specifically designed for this), but it works well enough"
   ]
  },
  {
   "cell_type": "code",
   "execution_count": null,
   "metadata": {},
   "outputs": [],
   "source": [
    "# we can explore the tree strucutre of the onology using pronto\n",
    "\n",
    "# picking a starting GO term we can find all of the child terms underneath it\n",
    "# here we start with GO:0032502 (developmental process)\n",
    "# we can use the children() method to get all of the child terms\n",
    "\n",
    "# get the GO term children\n",
    "goTerms = go['GO:0032502'].subclasses().to_set()\n",
    "\n",
    "# how many terms are there?\n",
    "print(len(goTerms))\n",
    "\n",
    "# print the GO term children\n",
    "for goTerm in goTerms:\n",
    "    print(f\"{goTerm.id} {goTerm.name}\")"
   ]
  }
 ],
 "metadata": {
  "kernelspec": {
   "display_name": "networks",
   "language": "python",
   "name": "python3"
  },
  "language_info": {
   "codemirror_mode": {
    "name": "ipython",
    "version": 3
   },
   "file_extension": ".py",
   "mimetype": "text/x-python",
   "name": "python",
   "nbconvert_exporter": "python",
   "pygments_lexer": "ipython3",
   "version": "3.12.7"
  }
 },
 "nbformat": 4,
 "nbformat_minor": 5
}
