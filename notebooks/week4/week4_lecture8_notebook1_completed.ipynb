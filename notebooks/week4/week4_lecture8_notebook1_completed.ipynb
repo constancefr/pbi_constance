{
 "cells": [
  {
   "cell_type": "markdown",
   "metadata": {},
   "source": [
    "### Programming for Biomedical Informatics\n",
    "#### Week 4 - Mining & Analysing the Biomedical Literature\n",
    "\n",
    "Using some of the skills we've developed working with eUtils we're now going to do some literature mining and analysis to gather some evidence about a rare genetic disease called Rett Syndrome."
   ]
  },
  {
   "cell_type": "code",
   "execution_count": 23,
   "metadata": {},
   "outputs": [],
   "source": [
    "'''In this script we are going to directly query eUtils using the requests library. This is because it allows us to easily specify the parameters and use the history feature of eUtils to make large queries efficiently.\n",
    "In the code below you should begin to see a pattern for how we approach the mapping process.'''\n",
    "\n",
    "# Preliminaries\n",
    "import urllib.request\n",
    "import random\n",
    "import matplotlib.pyplot as plt\n",
    "from matplotlib_venn import venn2\n",
    "\n",
    "# we will use this to allow us to search the XML content retutned by the eUtils API\n",
    "import xml.etree.ElementTree as ET\n",
    "\n",
    "# load my API key from the file\n",
    "with open('../api_keys/ncbi.txt', 'r') as file:\n",
    "    api_key = file.read().strip()\n",
    "\n",
    "with open('../api_keys/ncbi_email.txt', 'r') as file:\n",
    "    email = file.read().strip()"
   ]
  },
  {
   "cell_type": "code",
   "execution_count": 24,
   "metadata": {},
   "outputs": [
    {
     "data": {
      "text/plain": [
       "'A good place to start is to search MeSH to see if a specific term for \"Rett Syndrom\" exists. If it does we can\\nuse this to perform a PubMed search. Experimentally it makes sense to try a few different phrasings and methods\\nto search for Rett Syndrome to see how much the results vary.\\n\\nhttps://meshb.nlm.nih.gov\\n\\nIt would make sense to do some analysis of this; for example we could retrieve the PubMedIds for the different searches\\nand comapre them to see how much overlap there is. This would give us confidence in our search strategy.'"
      ]
     },
     "execution_count": 24,
     "metadata": {},
     "output_type": "execute_result"
    }
   ],
   "source": [
    "# Step 1 - Creating a specific search to find articles relating to Rett Syndrome\n",
    "\n",
    "'''A good place to start is to search MeSH to see if a specific term for \"Rett Syndrom\" exists. If it does we can\n",
    "use this to perform a PubMed search. Experimentally it makes sense to try a few different phrasings and methods\n",
    "to search for Rett Syndrome to see how much the results vary.\n",
    "\n",
    "https://meshb.nlm.nih.gov\n",
    "\n",
    "It would make sense to do some analysis of this; for example we could retrieve the PubMedIds for the different searches\n",
    "and comapre them to see how much overlap there is. This would give us confidence in our search strategy.'''"
   ]
  },
  {
   "cell_type": "code",
   "execution_count": 25,
   "metadata": {},
   "outputs": [],
   "source": [
    "# Search PubMed for articles relating to Rett Syndrome using eUtils API\n",
    "# Define the parameters for the eSearch request\n",
    "\n",
    "'''as we're going to make a few different searches we can define a function to do this for us'''\n",
    "\n",
    "def pubmed_search_count(query, api_key, email):\n",
    "\n",
    "    # define the parameters for the eSearch request\n",
    "    esearch_params = {\n",
    "        'db': 'pubmed',\n",
    "        'term': query,\n",
    "        'api_key': api_key,\n",
    "        'email': email\n",
    "    }\n",
    "\n",
    "    # encode the parameters so they can be passed to the API\n",
    "    encoded_data = urllib.parse.urlencode(esearch_params).encode('utf-8')\n",
    "\n",
    "    # the base request url for eSearch\n",
    "    url = f\"https://eutils.ncbi.nlm.nih.gov/entrez/eutils/esearch.fcgi\"\n",
    "\n",
    "    # make the request\n",
    "    request = urllib.request.Request(url, data=encoded_data)\n",
    "    response = urllib.request.urlopen(request)\n",
    "\n",
    "    # read into an XML object\n",
    "    esaerch_data_XML = ET.fromstring(response.read())\n",
    "\n",
    "    # extract the couunt of the number of articles found\n",
    "    count = int(esaerch_data_XML.find('Count').text)\n",
    "\n",
    "    print(f\"Found {count} articles\")"
   ]
  },
  {
   "cell_type": "code",
   "execution_count": 26,
   "metadata": {},
   "outputs": [
    {
     "name": "stdout",
     "output_type": "stream",
     "text": [
      "Found 3073 articles\n"
     ]
    }
   ],
   "source": [
    "# try a search with the MeSH term for Rett Syndrome\n",
    "pubmed_search_count('\"Rett Syndrome\"[MH]', api_key, email)"
   ]
  },
  {
   "cell_type": "code",
   "execution_count": 27,
   "metadata": {},
   "outputs": [
    {
     "name": "stdout",
     "output_type": "stream",
     "text": [
      "Found 4710 articles\n"
     ]
    }
   ],
   "source": [
    "# now lets try an allfields search for Rett Syndrome\n",
    "pubmed_search_count('Rett Syndrome', api_key, email)"
   ]
  },
  {
   "cell_type": "code",
   "execution_count": 28,
   "metadata": {},
   "outputs": [
    {
     "name": "stdout",
     "output_type": "stream",
     "text": [
      "20\n"
     ]
    }
   ],
   "source": [
    "# lets modify the function above to return the list of PubMedIds\n",
    "\n",
    "def pubmed_search_ids(query, api_key, email):\n",
    "    \n",
    "        # define the parameters for the eSearch request\n",
    "        esearch_params = {\n",
    "            'db': 'pubmed',\n",
    "            'term': query,\n",
    "            'api_key': api_key,\n",
    "            'email': email\n",
    "        }\n",
    "\n",
    "        # encode the parameters so they can be passed to the API\n",
    "        encoded_data = urllib.parse.urlencode(esearch_params).encode('utf-8')\n",
    "\n",
    "        # the base request url for eSearch\n",
    "        url = f\"https://eutils.ncbi.nlm.nih.gov/entrez/eutils/esearch.fcgi\"\n",
    "\n",
    "        # make the request\n",
    "        request = urllib.request.Request(url, data=encoded_data)\n",
    "        response = urllib.request.urlopen(request)\n",
    "\n",
    "        # read into an XML object\n",
    "        esaerch_data_XML = ET.fromstring(response.read())\n",
    "\n",
    "        # extract all the IDs in the response\n",
    "        ids = [id.text for id in esaerch_data_XML.findall('IdList/Id')]\n",
    "\n",
    "        return ids\n",
    "\n",
    "\n",
    "# try a search with the MeSH term for Rett Syndrome\n",
    "ids = pubmed_search_ids('\"Rett Syndrome\"[MH]', api_key, email)\n",
    "\n",
    "# print the number of ids found\n",
    "print(len(ids))"
   ]
  },
  {
   "cell_type": "code",
   "execution_count": 29,
   "metadata": {},
   "outputs": [
    {
     "data": {
      "text/plain": [
       "\"so you can see the search by default will return 20 ids (you can modify retmax, but you'd need to adjust it based on the count return\\nwhich in effect would call the search twice. This is why we use the history feature of eUtils to make large queries efficiently)\""
      ]
     },
     "execution_count": 29,
     "metadata": {},
     "output_type": "execute_result"
    }
   ],
   "source": [
    "'''so you can see the search by default will return 20 ids (you can modify retmax, but you'd need to adjust it based on the count return\n",
    "which in effect would call the search twice. This is why we use the history feature of eUtils to make large queries efficiently)'''"
   ]
  },
  {
   "cell_type": "code",
   "execution_count": 30,
   "metadata": {},
   "outputs": [],
   "source": [
    "# lets modify the function above to return the list of PubMedIds\n",
    "\n",
    "def pubmed_search_ids(query, api_key, email):\n",
    "    \n",
    "        # define the parameters for the eSearch request\n",
    "        esearch_params = {\n",
    "            'db': 'pubmed',\n",
    "            'term': query,\n",
    "            'api_key': api_key,\n",
    "            'email': email,\n",
    "            'usehistory': 'y'\n",
    "        }\n",
    "\n",
    "        # encode the parameters so they can be passed to the API\n",
    "        encoded_data = urllib.parse.urlencode(esearch_params).encode('utf-8')\n",
    "\n",
    "        # the base request url for eSearch\n",
    "        url = f\"https://eutils.ncbi.nlm.nih.gov/entrez/eutils/esearch.fcgi\"\n",
    "\n",
    "        # make the request\n",
    "        request = urllib.request.Request(url, data=encoded_data)\n",
    "        response = urllib.request.urlopen(request)\n",
    "\n",
    "        # read into an XML object\n",
    "        esearch_data_XML = ET.fromstring(response.read())\n",
    "\n",
    "        # extract the WebEnv and QueryKey\n",
    "        webenv = esearch_data_XML.find('WebEnv').text\n",
    "        query_key = esearch_data_XML.find('QueryKey').text\n",
    "\n",
    "        # define the parameters for the eSummary request\n",
    "        esummary_params = {\n",
    "            'db': 'pubmed',\n",
    "            'query_key': query_key,\n",
    "            'WebEnv': webenv,\n",
    "            'api_key': api_key,\n",
    "            'email': email\n",
    "        }\n",
    "\n",
    "        # encode the parameters so they can be passed to the API\n",
    "        encoded_data = urllib.parse.urlencode(esummary_params).encode('utf-8')\n",
    "\n",
    "        # the base request url for eSummary\n",
    "        url = f\"https://eutils.ncbi.nlm.nih.gov/entrez/eutils/esummary.fcgi\"\n",
    "\n",
    "        # make the request\n",
    "        request = urllib.request.Request(url, data=encoded_data)\n",
    "        response = urllib.request.urlopen(request)\n",
    "\n",
    "        # read into an XML object\n",
    "        esummary_data_XML = ET.fromstring(response.read())\n",
    "\n",
    "        # extract all the IDs in the response\n",
    "        ids = [id.text for id in esummary_data_XML.findall('DocSum/Id')]\n",
    "\n",
    "        return ids"
   ]
  },
  {
   "cell_type": "code",
   "execution_count": 31,
   "metadata": {},
   "outputs": [
    {
     "name": "stdout",
     "output_type": "stream",
     "text": [
      "3073\n"
     ]
    }
   ],
   "source": [
    "# try a search with the MeSH term for Rett Syndrome\n",
    "q1_ids = pubmed_search_ids('\"Rett Syndrome\"[MH]', api_key, email)\n",
    "\n",
    "# print the number of ids found\n",
    "print(len(q1_ids))"
   ]
  },
  {
   "cell_type": "code",
   "execution_count": 32,
   "metadata": {},
   "outputs": [
    {
     "name": "stdout",
     "output_type": "stream",
     "text": [
      "4127\n"
     ]
    }
   ],
   "source": [
    "# and finally a Title and Abstract restricted search\n",
    "q2_ids = pubmed_search_ids('Rett Syndrome[TIAB]', api_key, email)\n",
    "\n",
    "# print the number of ids found\n",
    "print(len(q2_ids))"
   ]
  },
  {
   "cell_type": "code",
   "execution_count": 33,
   "metadata": {},
   "outputs": [
    {
     "name": "stdout",
     "output_type": "stream",
     "text": [
      "2746\n"
     ]
    }
   ],
   "source": [
    "#lets use pythons set comparison to see how many ids are in common between the three searches\n",
    "common_ids = set.intersection(set(q1_ids), set(q2_ids))\n",
    "print(len(common_ids))"
   ]
  },
  {
   "cell_type": "code",
   "execution_count": 34,
   "metadata": {},
   "outputs": [
    {
     "data": {
      "image/png": "[encoded data removed]",
      "text/plain": [
       "<Figure size 640x480 with 1 Axes>"
      ]
     },
     "metadata": {},
     "output_type": "display_data"
    }
   ],
   "source": [
    "# using matplotlib_venn to plot a venn diagram of the results\n",
    "\n",
    "# create the venn diagram\n",
    "venn2([set(q1_ids), set(q2_ids)], ('MeSH', 'Title and Abstract'))\n",
    "\n",
    "# show the plot\n",
    "plt.show();"
   ]
  },
  {
   "cell_type": "code",
   "execution_count": 35,
   "metadata": {},
   "outputs": [],
   "source": [
    "# We'll pick the first unique article from each search and retrieve the title and abstract\n",
    "\n",
    "# define a function to retrieve the title, abstract and authors for a given PMID\n",
    "def pubmed_fetch_tiab(pmid, api_key, email):\n",
    "        \n",
    "        # define the parameters for the eFetch request\n",
    "        efetch_params = {\n",
    "            'db': 'pubmed',\n",
    "            'id': pmid,\n",
    "            'retmode': 'xml',\n",
    "            'api_key': api_key,\n",
    "            'email': email\n",
    "        }\n",
    "\n",
    "        # encode the parameters so they can be passed to the API\n",
    "        encoded_data = urllib.parse.urlencode(efetch_params).encode('utf-8')\n",
    "\n",
    "        # the base request url for eFetch\n",
    "        url = f\"https://eutils.ncbi.nlm.nih.gov/entrez/eutils/efetch.fcgi\"\n",
    "\n",
    "        # make the request\n",
    "        request = urllib.request.Request(url, data=encoded_data)\n",
    "        response = urllib.request.urlopen(request)\n",
    "\n",
    "        # read into an XML object\n",
    "        efetch_data_XML = ET.fromstring(response.read())\n",
    "\n",
    "        # extract the title, abstract and MeSH terms\n",
    "        for article in efetch_data_XML.findall('PubmedArticle'):\n",
    "            title = article.find('MedlineCitation/Article/ArticleTitle').text\n",
    "            abstract = article.find('MedlineCitation/Article/Abstract/AbstractText').text\n",
    "            mesh_terms = [mesh.text for mesh in article.findall('MedlineCitation/MeshHeadingList/MeshHeading/DescriptorName')]\n",
    "\n",
    "        return title, abstract, mesh_terms"
   ]
  },
  {
   "cell_type": "code",
   "execution_count": 36,
   "metadata": {},
   "outputs": [
    {
     "name": "stdout",
     "output_type": "stream",
     "text": [
      "[THE CLINICAL, NEUROPHYSIOLOGICAL AND DIFFERENTIAL DIAGNOSTIC ASPECTS IN A STUDY OF SEVERE FORMS OF EARLY CHILDHOOD AUTISM].\n",
      "Clinical, pathopsychological and neurophysiological studies have been carried ou\n",
      "t in 85 children with infantile autistic psychosis and in 38 girls with Rett's s\n",
      "yndrome. New improved differential diagnostic criteria between these two forms o\n",
      "f early childhood autism have been suggested. EEG spectral density values in alp\n",
      "ha-1, alpha-2, beta and theta subbands are established to be their neurophysiolo\n",
      "gical markers. Special attention was paid to close relationship between ontogene\n",
      "tic neuromorphogenesis of the brain cortical structures (e.g. physiological lysi\n",
      "s of cortical cell populations at the age 8-30 months of the child's life) and t\n",
      "he defect severity in the onset of illness at the same age range in patients wit\n",
      "h the studied forms of early childhood autism. The data obtained are discussed i\n",
      "n terms of new approaches to understanding pathogenesis of different forms of ea\n",
      "rly childhood autism.\n",
      "MeSH Terms:\n",
      "Autistic Disorder\n",
      "Child\n",
      "Child, Preschool\n",
      "Diagnosis, Differential\n",
      "Electroencephalography\n",
      "Female\n",
      "Humans\n",
      "Infant\n",
      "Male\n",
      "Psychopathology\n",
      "Psychotic Disorders\n",
      "Rett Syndrome\n",
      "Schizophrenia, Childhood\n",
      "THE MICROBIOTA-GUT-BRAIN AXIS AND NEURODEVELOPMENTAL DISORDERS.\n",
      "The gut microbiota has been found to interact with the brain through the microbi\n",
      "ota-gut-brain axis, regulating various physiological processes. In recent years,\n",
      " the impacts of the gut microbiota on neurodevelopment through this axis have be\n",
      "en increasingly appreciated. The gut microbiota is commonly considered to regula\n",
      "te neurodevelopment through three pathways, the immune pathway, the neuronal pat\n",
      "hway, and the endocrine/systemic pathway, with overlaps and crosstalks in betwee\n",
      "n. Accumulating studies have identified the role of the microbiota-gut-brain axi\n",
      "s in neurodevelopmental disorders including autism spectrum disorder, attention \n",
      "deficit hyperactivity disorder, and Rett Syndrome. Numerous researchers have exa\n",
      "mined the physiological and pathophysiological mechanisms influenced by the gut \n",
      "microbiota in neurodevelopmental disorders (NDDs). This review aims to provide a\n",
      " comprehensive overview of advancements in research pertaining to the microbiota\n",
      "-gut-brain axis in NDDs. Furthermore, we analyzed both the current state of rese\n",
      "arch progress and discuss future perspectives in this field.\n",
      "MeSH Terms:\n",
      "Humans\n",
      "Brain-Gut Axis\n",
      "Autism Spectrum Disorder\n",
      "Brain\n",
      "Gastrointestinal Microbiome\n",
      "Neurodevelopmental Disorders\n"
     ]
    }
   ],
   "source": [
    "\n",
    "# find the list of pmids that are unique to q1_ids\n",
    "q1_unique_ids = list(set(q1_ids) - set(q2_ids))\n",
    "q2_unique_ids = list(set(q2_ids) - set(q1_ids))\n",
    "\n",
    "\n",
    "#define a function that will randomly pick a PMID from a list until one is found that has a title and abstract\n",
    "def get_tiab_from_list(ids, api_key, email):\n",
    "    while True:\n",
    "        pmid = random.sample(ids, 1)[0]\n",
    "        try:\n",
    "            title, abstract, mesh_terms = pubmed_fetch_tiab(pmid, api_key, email)\n",
    "            if title and abstract and mesh_terms:\n",
    "                return title, abstract, mesh_terms\n",
    "            else:\n",
    "                pass\n",
    "        except:\n",
    "            pass\n",
    "\n",
    "# fetch the title and abstract for the random examples\n",
    "q1_title, q1_abstract, q1_mesh_terms = get_tiab_from_list(q1_unique_ids, api_key, email)\n",
    "q2_title, q2_abstract, q2_mesh_terms = get_tiab_from_list(q2_unique_ids, api_key, email)\n",
    "\n",
    "# print the results for q1\n",
    "# print the title ALLCAPS\n",
    "print(q1_title.upper())\n",
    "# wrap the abstract at 80 characters\n",
    "print('\\n'.join([q1_abstract[i:i+80] for i in range(0, len(q1_abstract), 80)]))\n",
    "# print the mesh terms as a tab intended list one term per line\n",
    "print('MeSH Terms:')\n",
    "print('\\n'.join(q1_mesh_terms))\n",
    "\n",
    "# print the results for q2\n",
    "# print the title ALLCAPS\n",
    "print(q2_title.upper())\n",
    "# wrap the abstract at 80 characters\n",
    "print('\\n'.join([q2_abstract[i:i+80] for i in range(0, len(q2_abstract), 80)]))\n",
    "# print the mesh terms as a tab intended list one term per line\n",
    "print('MeSH Terms:')\n",
    "print('\\n'.join(q2_mesh_terms))"
   ]
  },
  {
   "cell_type": "code",
   "execution_count": 37,
   "metadata": {},
   "outputs": [
    {
     "data": {
      "text/plain": [
       "'Now we want to try to learn something about Rett Syndrome from these papers.\\nOne obvious thing to do is to see look at the distrubution of MeSH terms associated with the papers'"
      ]
     },
     "execution_count": 37,
     "metadata": {},
     "output_type": "execute_result"
    }
   ],
   "source": [
    "'''Now we want to try to learn something about Rett Syndrome from these papers.\n",
    "One obvious thing to do is to see look at the distrubution of MeSH terms associated with the papers'''"
   ]
  },
  {
   "cell_type": "code",
   "execution_count": 38,
   "metadata": {},
   "outputs": [],
   "source": [
    "#define a function to retrieve all the MeSH terms for a list of PMIDs\n",
    "def pubmed_fetch_mesh_terms(pmids, api_key, email):\n",
    "    \n",
    "    # define the parameters for the eFetch request\n",
    "    efetch_params = {\n",
    "        'db': 'pubmed',\n",
    "        'id': ','.join(pmids),\n",
    "        'retmode': 'xml',\n",
    "        'api_key': api_key,\n",
    "        'email': email\n",
    "    }\n",
    "\n",
    "    # encode the parameters so they can be passed to the API\n",
    "    encoded_data = urllib.parse.urlencode(efetch_params).encode('utf-8')\n",
    "\n",
    "    # the base request url for eFetch\n",
    "    url = f\"https://eutils.ncbi.nlm.nih.gov/entrez/eutils/efetch.fcgi\"\n",
    "\n",
    "    # make the request\n",
    "    request = urllib.request.Request(url, data=encoded_data)\n",
    "    response = urllib.request.urlopen(request)\n",
    "\n",
    "    # read into an XML object\n",
    "    efetch_data_XML = ET.fromstring(response.read())\n",
    "\n",
    "    # extract the MeSH terms\n",
    "    mesh_terms = []\n",
    "    for article in efetch_data_XML.findall('PubmedArticle'):\n",
    "        try:\n",
    "            mesh_terms.extend([mesh.text for mesh in article.findall('MedlineCitation/MeshHeadingList/MeshHeading/DescriptorName')])\n",
    "        except:\n",
    "            pass\n",
    "\n",
    "    # create a dictionary of the MeSH terms and their counts\n",
    "    mesh_terms_dict = {}\n",
    "    for term in mesh_terms:\n",
    "        if term in mesh_terms_dict:\n",
    "            mesh_terms_dict[term] += 1\n",
    "        else:\n",
    "            mesh_terms_dict[term] = 1\n",
    "\n",
    "    return mesh_terms_dict"
   ]
  },
  {
   "cell_type": "code",
   "execution_count": 39,
   "metadata": {},
   "outputs": [
    {
     "data": {
      "text/plain": [
       "'What can we immediately learn from this data?'"
      ]
     },
     "execution_count": 39,
     "metadata": {},
     "output_type": "execute_result"
    },
    {
     "data": {
      "image/png": "[encoded data removed]",
      "text/plain": [
       "<Figure size 640x480 with 1 Axes>"
      ]
     },
     "metadata": {},
     "output_type": "display_data"
    }
   ],
   "source": [
    "#extract the MeSH term data for all the \"Rett Syndrome[MH]\" papers\n",
    "pmids = q1_ids\n",
    "\n",
    "mesh_dict = pubmed_fetch_mesh_terms(pmids, api_key, email)\n",
    "\n",
    "# sort the dictionary by the counts\n",
    "sorted_mesh_dict = dict(sorted(mesh_dict.items(), key=lambda item: item[1], reverse=True))\n",
    "\n",
    "# plot the top 10 MeSH terms\n",
    "plt.barh(list(sorted_mesh_dict.keys())[:10], list(sorted_mesh_dict.values())[:10]);\n",
    "\n",
    "'''What can we immediately learn from this data?'''"
   ]
  },
  {
   "cell_type": "code",
   "execution_count": 40,
   "metadata": {},
   "outputs": [],
   "source": [
    "'''lets use eLink to find any OMIM records that refer to these papers.\n",
    "OMIM contains information related to human medical genetics, such as attributes of conditions with a genetic contribution.'''\n",
    "\n",
    "def get_pubmed_omim(pmids):\n",
    "\n",
    "    # NB you can see all the links (an astonishing number)\n",
    "    # https://eutils.ncbi.nlm.nih.gov/entrez/query/static/entrezlinks.html#pubmed\n",
    "\n",
    "    # convert the list of pmids to a string where each pmid is preceded by 'id=' and separated by an &\n",
    "    pmid_string = '&id='.join(pmids)\n",
    "    \n",
    "    # Define the parameters for the eSearch request\n",
    "    elink_params = {\n",
    "        'linkname': 'pubmed_omim_calculated',\n",
    "        'api_key': api_key,\n",
    "        'email': email,\n",
    "    }\n",
    "    # encode the parameters so they can be passed to the API\n",
    "    encoded_data = urllib.parse.urlencode(elink_params).encode('utf-8')\n",
    "    encoded_data = encoded_data + pmid_string.encode('utf-8')\n",
    "\n",
    "    # the base request url for eSearch\n",
    "    url = f\"https://eutils.ncbi.nlm.nih.gov/entrez/eutils/elink.fcgi\"\n",
    "\n",
    "    # make the request\n",
    "    request = urllib.request.Request(url, data=encoded_data)\n",
    "    response = urllib.request.urlopen(request)\n",
    "    \n",
    "    # read into an XML object\n",
    "    elink_data_XML = ET.fromstring(response.read())\n",
    "\n",
    "    # list to store the pubmed_ids of the cited papers\n",
    "    omim_records = []\n",
    "\n",
    "    # extract the gene ids from the links\n",
    "    for link in elink_data_XML.findall('LinkSet/LinkSetDb/Link/Id'):\n",
    "        omim_records.append(link.text)\n",
    "\n",
    "    return omim_records"
   ]
  },
  {
   "cell_type": "code",
   "execution_count": 48,
   "metadata": {},
   "outputs": [
    {
     "name": "stdout",
     "output_type": "stream",
     "text": [
      "There are 285 unique OMIM records linked to the papers\n"
     ]
    }
   ],
   "source": [
    "# create a list of genes linked to the papers (we'll restrict to the first 200 papers)\n",
    "omim_records = get_pubmed_omim(pmids)\n",
    "\n",
    "# find the unique gene ids from the list\n",
    "unique_omim_records = list(set(omim_records))\n",
    "\n",
    "# print the number of unique records\n",
    "print(f'There are',len(unique_omim_records),'unique OMIM records linked to the papers')"
   ]
  },
  {
   "cell_type": "code",
   "execution_count": 49,
   "metadata": {},
   "outputs": [],
   "source": [
    "# use eSummary to retrieve the titles of the OMIM records\n",
    "def get_omim_titles(omim_records):\n",
    "\n",
    "    # convert the list of omim records to a string where each omim record is followed by a [MIM] in an 'OR' separated string\n",
    "    omim_string = ' OR '.join([record + '[MIM ID]' for record in omim_records])\n",
    "    \n",
    "    # Define the parameters for the eSearch request\n",
    "    esearch_params = {\n",
    "        'db': 'omim',\n",
    "        'term': omim_string,\n",
    "        'api_key': api_key,\n",
    "        'email': email,\n",
    "        'usehistory': 'y'\n",
    "    }\n",
    "\n",
    "    # encode the parameters so they can be passed to the API\n",
    "    encoded_data = urllib.parse.urlencode(esearch_params).encode('utf-8')\n",
    "\n",
    "    # the base request url for eSearch\n",
    "    url = f\"https://eutils.ncbi.nlm.nih.gov/entrez/eutils/esearch.fcgi\"\n",
    "\n",
    "    # make the request\n",
    "    request = urllib.request.Request(url, data=encoded_data)\n",
    "    response = urllib.request.urlopen(request)\n",
    "\n",
    "    # read into an XML object\n",
    "    esearch_data_XML = ET.fromstring(response.read())\n",
    "\n",
    "    # extract the WebEnv and QueryKey\n",
    "    webenv = esearch_data_XML.find('WebEnv').text\n",
    "    query_key = esearch_data_XML.find('QueryKey').text\n",
    "\n",
    "    # define the parameters for the eSummary request\n",
    "    esummary_params = {\n",
    "        'db': 'pubmed',\n",
    "        'query_key': query_key,\n",
    "        'WebEnv': webenv,\n",
    "        'api_key': api_key,\n",
    "        'email': email\n",
    "    }\n",
    "\n",
    "    # encode the parameters so they can be passed to the API\n",
    "    encoded_data = urllib.parse.urlencode(esummary_params).encode('utf-8')\n",
    "\n",
    "    # the base request url for eSearch\n",
    "    url = f\"https://eutils.ncbi.nlm.nih.gov/entrez/eutils/esummary.fcgi\"\n",
    "\n",
    "    # make the request\n",
    "    request = urllib.request.Request(url, data=encoded_data)\n",
    "    response = urllib.request.urlopen(request)\n",
    "\n",
    "    # read into an XML object\n",
    "    esummary_data_XML = ET.fromstring(response.read())\n",
    "\n",
    "    # extract the titles of the OMIM records\n",
    "    omim_titles = {}\n",
    "\n",
    "    for record in esummary_data_XML.findall('DocSum'):\n",
    "        try:\n",
    "            omim_id = record.find('Id').text\n",
    "            omim_title = record.find('Item[@Name=\"Title\"]').text\n",
    "            omim_titles[omim_id] = omim_title\n",
    "        except:\n",
    "            pass\n",
    "\n",
    "    return omim_titles"
   ]
  },
  {
   "cell_type": "code",
   "execution_count": 50,
   "metadata": {},
   "outputs": [
    {
     "data": {
      "text/html": [
       "<div>\n",
       "<style scoped>\n",
       "    .dataframe tbody tr th:only-of-type {\n",
       "        vertical-align: middle;\n",
       "    }\n",
       "\n",
       "    .dataframe tbody tr th {\n",
       "        vertical-align: top;\n",
       "    }\n",
       "\n",
       "    .dataframe thead th {\n",
       "        text-align: right;\n",
       "    }\n",
       "</style>\n",
       "<table border=\"1\" class=\"dataframe\">\n",
       "  <thead>\n",
       "    <tr style=\"text-align: right;\">\n",
       "      <th></th>\n",
       "      <th>Title</th>\n",
       "    </tr>\n",
       "  </thead>\n",
       "  <tbody>\n",
       "    <tr>\n",
       "      <th>615356</th>\n",
       "      <td>MUSCULAR DYSTROPHY, LIMB-GIRDLE, AUTOSOMAL REC...</td>\n",
       "    </tr>\n",
       "    <tr>\n",
       "      <th>615338</th>\n",
       "      <td>DEVELOPMENTAL AND EPILEPTIC ENCEPHALOPATHY 16;...</td>\n",
       "    </tr>\n",
       "    <tr>\n",
       "      <th>614959</th>\n",
       "      <td>DEVELOPMENTAL AND EPILEPTIC ENCEPHALOPATHY 14;...</td>\n",
       "    </tr>\n",
       "    <tr>\n",
       "      <th>614833</th>\n",
       "      <td>MICROCEPHALY, SHORT STATURE, AND POLYMICROGYRI...</td>\n",
       "    </tr>\n",
       "    <tr>\n",
       "      <th>614725</th>\n",
       "      <td>SERINE ACTIVE SITE-CONTAINING PROTEIN 1; SERAC1</td>\n",
       "    </tr>\n",
       "  </tbody>\n",
       "</table>\n",
       "</div>"
      ],
      "text/plain": [
       "                                                    Title\n",
       "615356  MUSCULAR DYSTROPHY, LIMB-GIRDLE, AUTOSOMAL REC...\n",
       "615338  DEVELOPMENTAL AND EPILEPTIC ENCEPHALOPATHY 16;...\n",
       "614959  DEVELOPMENTAL AND EPILEPTIC ENCEPHALOPATHY 14;...\n",
       "614833  MICROCEPHALY, SHORT STATURE, AND POLYMICROGYRI...\n",
       "614725    SERINE ACTIVE SITE-CONTAINING PROTEIN 1; SERAC1"
      ]
     },
     "execution_count": 50,
     "metadata": {},
     "output_type": "execute_result"
    }
   ],
   "source": [
    "# get the titles of the OMIM records\n",
    "omim_titles = get_omim_titles(unique_omim_records)\n",
    "\n",
    "# convert this into a dataframe where the index is the OMIM ID and the column is the title\n",
    "import pandas as pd\n",
    "\n",
    "omim_names = pd.DataFrame.from_dict(omim_titles, orient='index', columns=['Title'])\n",
    "\n",
    "# print the dataframe\n",
    "omim_names.head()"
   ]
  },
  {
   "cell_type": "code",
   "execution_count": 51,
   "metadata": {},
   "outputs": [
    {
     "data": {
      "text/html": [
       "<div>\n",
       "<style scoped>\n",
       "    .dataframe tbody tr th:only-of-type {\n",
       "        vertical-align: middle;\n",
       "    }\n",
       "\n",
       "    .dataframe tbody tr th {\n",
       "        vertical-align: top;\n",
       "    }\n",
       "\n",
       "    .dataframe thead th {\n",
       "        text-align: right;\n",
       "    }\n",
       "</style>\n",
       "<table border=\"1\" class=\"dataframe\">\n",
       "  <thead>\n",
       "    <tr style=\"text-align: right;\">\n",
       "      <th></th>\n",
       "      <th>OMIM ID</th>\n",
       "      <th>Count</th>\n",
       "      <th>Title</th>\n",
       "    </tr>\n",
       "  </thead>\n",
       "  <tbody>\n",
       "    <tr>\n",
       "      <th>0</th>\n",
       "      <td>300005</td>\n",
       "      <td>248</td>\n",
       "      <td>METHYL-CpG-BINDING PROTEIN 2; MECP2</td>\n",
       "    </tr>\n",
       "    <tr>\n",
       "      <th>1</th>\n",
       "      <td>312750</td>\n",
       "      <td>114</td>\n",
       "      <td>RETT SYNDROME; RTT</td>\n",
       "    </tr>\n",
       "    <tr>\n",
       "      <th>2</th>\n",
       "      <td>164874</td>\n",
       "      <td>54</td>\n",
       "      <td>FORKHEAD BOX G1; FOXG1</td>\n",
       "    </tr>\n",
       "    <tr>\n",
       "      <th>3</th>\n",
       "      <td>300203</td>\n",
       "      <td>42</td>\n",
       "      <td>CYCLIN-DEPENDENT KINASE-LIKE 5; CDKL5</td>\n",
       "    </tr>\n",
       "    <tr>\n",
       "      <th>4</th>\n",
       "      <td>300673</td>\n",
       "      <td>35</td>\n",
       "      <td>ENCEPHALOPATHY, NEONATAL SEVERE, DUE TO MECP2 ...</td>\n",
       "    </tr>\n",
       "  </tbody>\n",
       "</table>\n",
       "</div>"
      ],
      "text/plain": [
       "  OMIM ID  Count                                              Title\n",
       "0  300005    248                METHYL-CpG-BINDING PROTEIN 2; MECP2\n",
       "1  312750    114                                 RETT SYNDROME; RTT\n",
       "2  164874     54                             FORKHEAD BOX G1; FOXG1\n",
       "3  300203     42              CYCLIN-DEPENDENT KINASE-LIKE 5; CDKL5\n",
       "4  300673     35  ENCEPHALOPATHY, NEONATAL SEVERE, DUE TO MECP2 ..."
      ]
     },
     "execution_count": 51,
     "metadata": {},
     "output_type": "execute_result"
    }
   ],
   "source": [
    "# count the number of times each OMIM record is cited from the omim_records list\n",
    "omim_records_dict = {}\n",
    "\n",
    "for record in omim_records:\n",
    "    if record in omim_records_dict:\n",
    "        omim_records_dict[record] += 1\n",
    "    else:\n",
    "        omim_records_dict[record] = 1\n",
    "\n",
    "# sort the dictionary by the counts\n",
    "sorted_omim_records_dict = dict(sorted(omim_records_dict.items(), key=lambda item: item[1], reverse=True))\n",
    "\n",
    "#convert the dictionary to a dataframe\n",
    "df_omim = pd.DataFrame.from_dict(sorted_omim_records_dict, orient='index', columns=['Count'])\n",
    "\n",
    "# merge the dataframe with the omim_names dataframe\n",
    "combined = df_omim.merge(omim_names, left_index=True, right_index=True)\n",
    "\n",
    "#remove the index column\n",
    "combined.reset_index(inplace=True)\n",
    "\n",
    "#rename the columns\n",
    "combined.columns = ['OMIM ID', 'Count', 'Title']\n",
    "\n",
    "# print the dataframe\n",
    "combined.head()"
   ]
  },
  {
   "cell_type": "code",
   "execution_count": 52,
   "metadata": {},
   "outputs": [
    {
     "data": {
      "image/png": "[encoded data removed]",
      "text/plain": [
       "<Figure size 640x480 with 1 Axes>"
      ]
     },
     "metadata": {},
     "output_type": "display_data"
    }
   ],
   "source": [
    "# plot the top 10 OMIM records\n",
    "plt.barh(combined['Title'][:10], combined['Count'][:10]);"
   ]
  }
 ],
 "metadata": {
  "kernelspec": {
   "display_name": "pbi_dev",
   "language": "python",
   "name": "python3"
  },
  "language_info": {
   "codemirror_mode": {
    "name": "ipython",
    "version": 3
   },
   "file_extension": ".py",
   "mimetype": "text/x-python",
   "name": "python",
   "nbconvert_exporter": "python",
   "pygments_lexer": "ipython3",
   "version": "3.10.14"
  }
 },
 "nbformat": 4,
 "nbformat_minor": 2
}
