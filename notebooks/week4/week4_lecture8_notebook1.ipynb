{
 "cells": [
  {
   "cell_type": "markdown",
   "metadata": {},
   "source": [
    "### Programming for Biomedical Informatics\n",
    "#### Week 4 - Mining & Analysing the Biomedical Literature\n",
    "\n",
    "Using some of the skills we've developed working with eUtils we're now going to do some literature mining and analysis to gather some evidence about a rare genetic disease called Rett Syndrome."
   ]
  },
  {
   "cell_type": "code",
   "execution_count": 3,
   "metadata": {},
   "outputs": [
    {
     "name": "stdout",
     "output_type": "stream",
     "text": [
      "Collecting matplotlib_venn\n",
      "  Downloading matplotlib-venn-1.1.1.tar.gz (40 kB)\n",
      "  Installing build dependencies: started\n",
      "  Installing build dependencies: finished with status 'done'\n",
      "  Getting requirements to build wheel: started\n",
      "  Getting requirements to build wheel: finished with status 'done'\n",
      "  Preparing metadata (pyproject.toml): started\n",
      "  Preparing metadata (pyproject.toml): finished with status 'done'\n",
      "Requirement already satisfied: matplotlib in c:\\users\\const\\anaconda3\\envs\\pbi_env1\\lib\\site-packages (from matplotlib_venn) (3.9.2)\n",
      "Requirement already satisfied: numpy in c:\\users\\const\\anaconda3\\envs\\pbi_env1\\lib\\site-packages (from matplotlib_venn) (2.1.1)\n",
      "Requirement already satisfied: scipy in c:\\users\\const\\anaconda3\\envs\\pbi_env1\\lib\\site-packages (from matplotlib_venn) (1.14.1)\n",
      "Requirement already satisfied: contourpy>=1.0.1 in c:\\users\\const\\anaconda3\\envs\\pbi_env1\\lib\\site-packages (from matplotlib->matplotlib_venn) (1.3.0)\n",
      "Requirement already satisfied: cycler>=0.10 in c:\\users\\const\\anaconda3\\envs\\pbi_env1\\lib\\site-packages (from matplotlib->matplotlib_venn) (0.12.1)\n",
      "Requirement already satisfied: fonttools>=4.22.0 in c:\\users\\const\\anaconda3\\envs\\pbi_env1\\lib\\site-packages (from matplotlib->matplotlib_venn) (4.54.1)\n",
      "Requirement already satisfied: kiwisolver>=1.3.1 in c:\\users\\const\\anaconda3\\envs\\pbi_env1\\lib\\site-packages (from matplotlib->matplotlib_venn) (1.4.7)\n",
      "Requirement already satisfied: packaging>=20.0 in c:\\users\\const\\anaconda3\\envs\\pbi_env1\\lib\\site-packages (from matplotlib->matplotlib_venn) (24.1)\n",
      "Requirement already satisfied: pillow>=8 in c:\\users\\const\\anaconda3\\envs\\pbi_env1\\lib\\site-packages (from matplotlib->matplotlib_venn) (10.4.0)\n",
      "Requirement already satisfied: pyparsing>=2.3.1 in c:\\users\\const\\anaconda3\\envs\\pbi_env1\\lib\\site-packages (from matplotlib->matplotlib_venn) (3.1.4)\n",
      "Requirement already satisfied: python-dateutil>=2.7 in c:\\users\\const\\anaconda3\\envs\\pbi_env1\\lib\\site-packages (from matplotlib->matplotlib_venn) (2.9.0)\n",
      "Requirement already satisfied: six>=1.5 in c:\\users\\const\\anaconda3\\envs\\pbi_env1\\lib\\site-packages (from python-dateutil>=2.7->matplotlib->matplotlib_venn) (1.16.0)\n",
      "Building wheels for collected packages: matplotlib_venn\n",
      "  Building wheel for matplotlib_venn (pyproject.toml): started\n",
      "  Building wheel for matplotlib_venn (pyproject.toml): finished with status 'done'\n",
      "  Created wheel for matplotlib_venn: filename=matplotlib_venn-1.1.1-py3-none-any.whl size=45335 sha256=5736b718a7fd8019998142bbb236e231f4e75f2cfe3c682dfdbdbcd6cbf17098\n",
      "  Stored in directory: c:\\users\\const\\appdata\\local\\pip\\cache\\wheels\\8a\\29\\52\\4d90d9556445079f88255b87a75d951357eff52d0795b88f4f\n",
      "Successfully built matplotlib_venn\n",
      "Installing collected packages: matplotlib_venn\n",
      "Successfully installed matplotlib_venn-1.1.1\n",
      "Note: you may need to restart the kernel to use updated packages.\n"
     ]
    }
   ],
   "source": [
    "%pip install matplotlib_venn"
   ]
  },
  {
   "cell_type": "code",
   "execution_count": 5,
   "metadata": {},
   "outputs": [],
   "source": [
    "'''In this script we are going to directly query eUtils using the requests library. This is because it allows us to easily specify the parameters and use the history feature of eUtils to make large queries efficiently.\n",
    "In the code below you should begin to see a pattern for how we approach the mapping process.'''\n",
    "\n",
    "# Preliminaries\n",
    "import urllib.request\n",
    "import random\n",
    "import pandas as pd\n",
    "import matplotlib.pyplot as plt\n",
    "from matplotlib_venn import venn2\n",
    "\n",
    "# we will use this to allow us to search the XML content retutned by the eUtils API\n",
    "import xml.etree.ElementTree as ET\n",
    "\n",
    "# load my API key from the file\n",
    "with open('../api_keys/ncbi.txt', 'r') as file:\n",
    "    api_key = file.read().strip()\n",
    "\n",
    "with open('../api_keys/ncbi_email.txt', 'r') as file:\n",
    "    email = file.read().strip()"
   ]
  },
  {
   "cell_type": "code",
   "execution_count": null,
   "metadata": {},
   "outputs": [],
   "source": [
    "# Step 1 - Creating a specific search to find articles relating to Rett Syndrome\n",
    "\n",
    "'''A good place to start is to search MeSH to see if a specific term for \"Rett Syndrom\" exists. If it does we can\n",
    "use this to perform a PubMed search. Experimentally it makes sense to try a few different phrasings and methods\n",
    "to search for Rett Syndrome to see how much the results vary.\n",
    "\n",
    "https://meshb.nlm.nih.gov\n",
    "\n",
    "It would make sense to do some analysis of this; for example we could retrieve the PubMedIds for the different searches\n",
    "and comapre them to see how much overlap there is. This would give us confidence in our search strategy.'''"
   ]
  },
  {
   "cell_type": "code",
   "execution_count": 7,
   "metadata": {},
   "outputs": [],
   "source": [
    "# Search PubMed for articles relating to Rett Syndrome using eUtils API\n",
    "# Define the parameters for the eSearch request\n",
    "\n",
    "'''as we're going to make a few different searches we can define a function to do this for us'''\n",
    "\n",
    "def pubmed_search_count(query, api_key, email):\n",
    "\n",
    "    # define the parameters for the eSearch request\n",
    "    esearch_params = {\n",
    "        'db': 'pubmed',\n",
    "        'term': query,\n",
    "        'api_key': api_key,\n",
    "        'email': email\n",
    "    }\n",
    "\n",
    "    # encode the parameters so they can be passed to the API\n",
    "    encoded_data = urllib.parse.urlencode(esearch_params).encode('utf-8')\n",
    "\n",
    "    # the base request url for eSearch\n",
    "    url = f\"https://eutils.ncbi.nlm.nih.gov/entrez/eutils/esearch.fcgi\"\n",
    "\n",
    "    # make the request\n",
    "    request = urllib.request.Request(url, data=encoded_data)\n",
    "    response = urllib.request.urlopen(request)\n",
    "\n",
    "    # read into an XML object\n",
    "    esaerch_data_XML = ET.fromstring(response.read())\n",
    "\n",
    "    # extract the couunt of the number of articles found\n",
    "    count = int(esaerch_data_XML.find('Count').text)\n",
    "\n",
    "    print(f\"Found {count} articles\")"
   ]
  },
  {
   "cell_type": "code",
   "execution_count": 8,
   "metadata": {},
   "outputs": [
    {
     "name": "stdout",
     "output_type": "stream",
     "text": [
      "Found 3073 articles\n"
     ]
    }
   ],
   "source": [
    "# try a search with the MeSH term for Rett Syndrome\n",
    "pubmed_search_count('\"Rett Syndrome\" [MH]', api_key=api_key, email=email)\n",
    "# Note: can get discrepencies between web searches & API searches (e.g. dates: publication date vs date added -> web search will thake liberties)"
   ]
  },
  {
   "cell_type": "code",
   "execution_count": 9,
   "metadata": {},
   "outputs": [
    {
     "name": "stdout",
     "output_type": "stream",
     "text": [
      "Found 4710 articles\n"
     ]
    }
   ],
   "source": [
    "# now lets try an allfields search for Rett Syndrome\n",
    "pubmed_search_count('Rett Syndrome', api_key=api_key, email=email)\n",
    "# Want a search that's broad enough, but minimises the \"false positives\"! Need proper heuristics."
   ]
  },
  {
   "cell_type": "code",
   "execution_count": 10,
   "metadata": {},
   "outputs": [
    {
     "name": "stdout",
     "output_type": "stream",
     "text": [
      "20\n"
     ]
    }
   ],
   "source": [
    "# lets modify the function above to return the list of PubMedIds, not just the count\n",
    "\n",
    "def pubmed_search_ids(query, api_key, email):\n",
    "    \n",
    "        # define the parameters for the eSearch request\n",
    "        esearch_params = {\n",
    "            'db': 'pubmed',\n",
    "            'term': query,\n",
    "            'api_key': api_key,\n",
    "            'email': email\n",
    "        }\n",
    "\n",
    "        # encode the parameters so they can be passed to the API\n",
    "        encoded_data = urllib.parse.urlencode(esearch_params).encode('utf-8')\n",
    "\n",
    "        # the base request url for eSearch\n",
    "        url = f\"https://eutils.ncbi.nlm.nih.gov/entrez/eutils/esearch.fcgi\"\n",
    "\n",
    "        # make the request\n",
    "        request = urllib.request.Request(url, data=encoded_data)\n",
    "        response = urllib.request.urlopen(request)\n",
    "\n",
    "        # read into an XML object\n",
    "        esaerch_data_XML = ET.fromstring(response.read())\n",
    "\n",
    "        # extract all the IDs in the response\n",
    "        ids = [id.text for id in esaerch_data_XML.findall('IdList/Id')]\n",
    "        # Note: can print out an example of XML data for a few entries in response as template for search query structure\n",
    "\n",
    "        return ids\n",
    "\n",
    "\n",
    "# try a search with the MeSH term for Rett Syndrome\n",
    "ids = pubmed_search_ids('\"Rett Syndrome\"[MH]', api_key, email)\n",
    "\n",
    "# print the number of ids found\n",
    "print(len(ids))"
   ]
  },
  {
   "cell_type": "code",
   "execution_count": null,
   "metadata": {},
   "outputs": [],
   "source": [
    "'''so you can see the search BY DEFAULT will return 20 ids (you can modify retmax, but you'd need to adjust it based on the count return\n",
    "which in effect would call the search twice. This is why we use the HISTORY FEATURE OF EUTILS to make large queries efficiently)'''"
   ]
  },
  {
   "cell_type": "code",
   "execution_count": 12,
   "metadata": {},
   "outputs": [],
   "source": [
    "# lets modify the function above to return the list of PubMedIds\n",
    "\n",
    "def pubmed_search_ids(query, api_key, email):\n",
    "    \n",
    "        # define the parameters for the eSearch request\n",
    "        esearch_params = {\n",
    "            'db': 'pubmed',\n",
    "            'term': query,\n",
    "            'api_key': api_key,\n",
    "            'email': email,\n",
    "            'usehistory': 'y'\n",
    "        }\n",
    "\n",
    "        # encode the parameters so they can be passed to the API\n",
    "        encoded_data = urllib.parse.urlencode(esearch_params).encode('utf-8')\n",
    "\n",
    "        # the base request url for eSearch\n",
    "        url = f\"https://eutils.ncbi.nlm.nih.gov/entrez/eutils/esearch.fcgi\"\n",
    "\n",
    "        # make the request\n",
    "        request = urllib.request.Request(url, data=encoded_data)\n",
    "        response = urllib.request.urlopen(request)\n",
    "\n",
    "        # read into an XML object\n",
    "        esearch_data_XML = ET.fromstring(response.read())\n",
    "\n",
    "        # extract the WebEnv and QueryKey\n",
    "        webenv = esearch_data_XML.find('WebEnv').text\n",
    "        query_key = esearch_data_XML.find('QueryKey').text\n",
    "\n",
    "        # define the parameters for the eSummary request\n",
    "        esummary_params = {\n",
    "            'db': 'pubmed',\n",
    "            'query_key': query_key,\n",
    "            'WebEnv': webenv,\n",
    "            'api_key': api_key,\n",
    "            'email': email\n",
    "        }\n",
    "\n",
    "        # encode the parameters so they can be passed to the API\n",
    "        encoded_data = urllib.parse.urlencode(esummary_params).encode('utf-8')\n",
    "\n",
    "        # the base request url for eSummary\n",
    "        url = f\"https://eutils.ncbi.nlm.nih.gov/entrez/eutils/esummary.fcgi\"\n",
    "\n",
    "        # make the request\n",
    "        request = urllib.request.Request(url, data=encoded_data)\n",
    "        response = urllib.request.urlopen(request)\n",
    "\n",
    "        # read into an XML object\n",
    "        esummary_data_XML = ET.fromstring(response.read())\n",
    "\n",
    "        # extract all the IDs in the response\n",
    "        ids = [id.text for id in esummary_data_XML.findall('DocSum/Id')]\n",
    "\n",
    "        return ids"
   ]
  },
  {
   "cell_type": "code",
   "execution_count": 13,
   "metadata": {},
   "outputs": [
    {
     "name": "stdout",
     "output_type": "stream",
     "text": [
      "3073\n"
     ]
    }
   ],
   "source": [
    "# try a search with the MeSH term for Rett Syndrome\n",
    "q1_ids = pubmed_search_ids('\"Rett Syndrome\"[MH]', api_key, email)\n",
    "\n",
    "# print the number of ids found\n",
    "print(len(q1_ids))"
   ]
  },
  {
   "cell_type": "code",
   "execution_count": 14,
   "metadata": {},
   "outputs": [
    {
     "name": "stdout",
     "output_type": "stream",
     "text": [
      "4127\n"
     ]
    }
   ],
   "source": [
    "# and finally a Title and Abstract restricted search\n",
    "q2_ids = pubmed_search_ids('\"Rett Syndrome\"[TIAB]', api_key, email)\n",
    "\n",
    "# print the number of ids found\n",
    "print(len(q2_ids))"
   ]
  },
  {
   "cell_type": "code",
   "execution_count": 17,
   "metadata": {},
   "outputs": [],
   "source": [
    "#lets use pythons set comparison to see how many ids are in common between the three searches\n",
    "common_ids = set(q1_ids).intersection(set(q2_ids)) # intersection btw q1 and q2"
   ]
  },
  {
   "cell_type": "code",
   "execution_count": 20,
   "metadata": {},
   "outputs": [
    {
     "data": {
      "image/png": "[encoded data removed]",
      "text/plain": [
       "<Figure size 640x480 with 1 Axes>"
      ]
     },
     "metadata": {},
     "output_type": "display_data"
    },
    {
     "data": {
      "text/plain": [
       "'There are 327 articles where Rett Syndrome is mentionned in the article, but not in the title & abstract!\\nNote that MeSH is very good for modern papers, but annotation is quite poor for older ones. A lot of information is still locked up in physical papers,\\nnot even available in PubMed.'"
      ]
     },
     "execution_count": 20,
     "metadata": {},
     "output_type": "execute_result"
    }
   ],
   "source": [
    "# using matplotlib_venn to plot a venn diagram of the results\n",
    "\n",
    "# create the venn diagram\n",
    "venn2([set(q1_ids), set(q2_ids)], ('MeSH', 'Title and Abstract'))\n",
    "\n",
    "# show the plot\n",
    "plt.show();\n",
    "\n",
    "'''There are 327 articles where Rett Syndrome is mentionned in the article, but not in the title & abstract!\n",
    "Note that MeSH is very good for modern papers, but annotation is quite poor for older ones. A lot of information is still locked up in physical papers,\n",
    "not even available in PubMed.'''"
   ]
  },
  {
   "cell_type": "code",
   "execution_count": 23,
   "metadata": {},
   "outputs": [],
   "source": [
    "# We'll pick the FIRST UNIQUE article from each search and retrieve the title and abstract\n",
    "\n",
    "# define a function to retrieve the title, abstract and authors for a given PMID\n",
    "def pubmed_fetch_tiab(pmid, api_key, email):\n",
    "        \n",
    "        # define the parameters for the eFetch request\n",
    "        efetch_params = {\n",
    "            'db': 'pubmed',\n",
    "            'id': pmid,\n",
    "            'retmode': 'xml',\n",
    "            'api_key': api_key,\n",
    "            'email': email\n",
    "        }\n",
    "\n",
    "        # encode the parameters so they can be passed to the API\n",
    "        encoded_data = urllib.parse.urlencode(efetch_params).encode('utf-8')\n",
    "\n",
    "        # the base request url for eFetch\n",
    "        url = f\"https://eutils.ncbi.nlm.nih.gov/entrez/eutils/efetch.fcgi\"\n",
    "\n",
    "        # make the request\n",
    "        request = urllib.request.Request(url, data=encoded_data)\n",
    "        response = urllib.request.urlopen(request)\n",
    "\n",
    "        # read into an XML object\n",
    "        efetch_data_XML = ET.fromstring(response.read())\n",
    "\n",
    "        # extract the title, abstract and MeSH terms\n",
    "        for article in efetch_data_XML.findall('PubmedArticle'):\n",
    "            title = article.find('MedlineCitation/Article/ArticleTitle').text\n",
    "            abstract = article.find('MedlineCitation/Article/Abstract/AbstractText').text\n",
    "            mesh_terms = [mesh.text for mesh in article.findall('MedlineCitation/MeshHeadingList/MeshHeading/DescriptorName')]\n",
    "\n",
    "        return title, abstract, mesh_terms"
   ]
  },
  {
   "cell_type": "code",
   "execution_count": 25,
   "metadata": {},
   "outputs": [
    {
     "name": "stdout",
     "output_type": "stream",
     "text": [
      "EXPANDING GENOTYPE-PHENOTYPE CORRELATIONS IN FOXG1 SYNDROME: RESULTS FROM A PATIENT REGISTRY.\n",
      "We refine the clinical spectrum of FOXG1 syndrome and expand genotype-phenotype \n",
      "correlations through evaluation of 122 individuals enrolled in an international \n",
      "patient registry. \n",
      "\n",
      "MeSH Terms:\n",
      "Humans\n",
      "Rett Syndrome\n",
      "Genotype\n",
      "Seizures\n",
      "Frameshift Mutation\n",
      "Registries\n",
      "Nerve Tissue Proteins\n",
      "Forkhead Transcription Factors\n",
      "CLINICAL MANIFESTATION OF CDKL5 DEFICIENCY DISORDER AND IDENTIFIED MUTATIONS IN A COHORT OF SLOVAK PATIENTS.\n",
      "CDKL5 deficiency disorder (CDD) is an independent clinical entity associated wit\n",
      "h early-onset encephalopathy, which is often considered the type of epileptic en\n",
      "cephalopathy with CDKL5 mutation also found in children diagnosed with early-ons\n",
      "et seizure (Hanefeld) type of Rett syndrome, epileptic spasms, West syndrome, Le\n",
      "nnox-Gastaut syndrome, or autism. Since early seizure onset is a prominent featu\n",
      "re, in this study, a cohort of 54 unrelated patients consisting of 26 males and \n",
      "28 females was selected for CDKL5 screening, with seizures presented before 12 m\n",
      "onths of age being the only clinical criterion. Five patients were found to have\n",
      " pathogenic or likely pathogenic variants in CDKL5 while 1 was found to have a v\n",
      "ariant of uncertain significance (p.L522V). Although CDKL5 variants are more fre\n",
      "quently identified in female patients, we identified three male and three female\n",
      " patients (11.1 %, 6/54) in this study. Missense variant with unknown inheritanc\n",
      "e (p.L522V), de novo missense variant (p.E60 K), two de novo splicing (IVS15 + 1\n",
      "G > A, IVS16 + 2 T > A), and one de novo nonsense variant p.W125* were identifie\n",
      "d using Sanger sequencing. Whole exome analysis approach revealed de novo frames\n",
      "hift variant c.1247_1248delAG in a mosaic form in one of the males. Patient clin\n",
      "ical features are reviewed and compared to those previously described in related\n",
      " literature. Variable clinical features were presented in CDKL5 positive patient\n",
      "s characterised in this study. In addition to more common features, such as earl\n",
      "y epileptic seizures, severe intellectual disability, and gross motor impairment\n",
      ", inappropriate laughing/screaming spells and hypotonia appeared at the age of 1\n",
      " year in all patients, regardless of the type of CDKL5 mutation or sex. All thre\n",
      "e CDKL5 positive males from our cohort were initially diagnosed with West syndro\n",
      "me, which suggests that the CDKL5 gene mutations are a significant cause of West\n",
      " syndrome phenotype, and also indicate the overlapping characteristics of these \n",
      "two clinical entities.\n",
      "MeSH Terms:\n",
      "Epileptic Syndromes\n",
      "Female\n",
      "Humans\n",
      "Infant\n",
      "Male\n",
      "Mutation\n",
      "Protein Serine-Threonine Kinases\n",
      "Slovakia\n",
      "Spasms, Infantile\n"
     ]
    }
   ],
   "source": [
    "# find the list of pmids that are unique to q1_ids\n",
    "q1_unique_ids = list(set(q1_ids) - set(q2_ids))\n",
    "q2_unique_ids = list(set(q2_ids) - set(q1_ids))\n",
    "\n",
    "\n",
    "#define a function that will randomly pick a PMID from a list until one is found that has a title and abstract\n",
    "def get_tiab_from_list(ids, api_key, email):\n",
    "    while True:\n",
    "        pmid = random.sample(ids, 1)[0]\n",
    "        try:\n",
    "            title, abstract, mesh_terms = pubmed_fetch_tiab(pmid, api_key, email)\n",
    "            if title and abstract and mesh_terms:\n",
    "                return title, abstract, mesh_terms\n",
    "            else:\n",
    "                pass\n",
    "        except:\n",
    "            pass\n",
    "\n",
    "# fetch the title and abstract for the random examples\n",
    "q1_title, q1_abstract, q1_mesh_terms = get_tiab_from_list(q1_unique_ids, api_key, email)\n",
    "q2_title, q2_abstract, q2_mesh_terms = get_tiab_from_list(q2_unique_ids, api_key, email)\n",
    "\n",
    "# print the results for q1\n",
    "# print the title ALLCAPS\n",
    "print(q1_title.upper())\n",
    "# wrap the abstract at 80 characters\n",
    "print('\\n'.join([q1_abstract[i:i+80] for i in range(0, len(q1_abstract), 80)]), '\\n')\n",
    "# print the mesh terms as a tab intended list one term per line\n",
    "print('MeSH Terms:')\n",
    "print('\\n'.join(q1_mesh_terms))\n",
    "\n",
    "# print the results for q2\n",
    "# print the title ALLCAPS\n",
    "print(q2_title.upper())\n",
    "# wrap the abstract at 80 characters\n",
    "print('\\n'.join([q2_abstract[i:i+80] for i in range(0, len(q2_abstract), 80)]))\n",
    "# print the mesh terms as a tab intended list one term per line\n",
    "print('MeSH Terms:')\n",
    "print('\\n'.join(q2_mesh_terms))"
   ]
  },
  {
   "cell_type": "code",
   "execution_count": null,
   "metadata": {},
   "outputs": [],
   "source": [
    "'''Now we want to try to learn something about Rett Syndrome from these papers.\n",
    "One obvious thing to do is to see look at the distrubution of MeSH terms associated with the papers'''"
   ]
  },
  {
   "cell_type": "code",
   "execution_count": 26,
   "metadata": {},
   "outputs": [],
   "source": [
    "#define a function to retrieve ALL the MeSH terms for a list of PMIDs (i.e. ALL the papers)\n",
    "def pubmed_fetch_mesh_terms(pmids, api_key, email):\n",
    "    \n",
    "    # define the parameters for the eFetch request\n",
    "    efetch_params = {\n",
    "        'db': 'pubmed',\n",
    "        'id': ','.join(pmids),\n",
    "        'retmode': 'xml',\n",
    "        'api_key': api_key,\n",
    "        'email': email\n",
    "    }\n",
    "\n",
    "    # encode the parameters so they can be passed to the API\n",
    "    encoded_data = urllib.parse.urlencode(efetch_params).encode('utf-8')\n",
    "\n",
    "    # the base request url for eFetch\n",
    "    url = f\"https://eutils.ncbi.nlm.nih.gov/entrez/eutils/efetch.fcgi\"\n",
    "\n",
    "    # make the request\n",
    "    request = urllib.request.Request(url, data=encoded_data)\n",
    "    response = urllib.request.urlopen(request)\n",
    "\n",
    "    # read into an XML object\n",
    "    efetch_data_XML = ET.fromstring(response.read())\n",
    "\n",
    "    # extract the MeSH terms\n",
    "    mesh_terms = []\n",
    "    for article in efetch_data_XML.findall('PubmedArticle'):\n",
    "        try:\n",
    "            mesh_terms.extend([mesh.text for mesh in article.findall('MedlineCitation/MeshHeadingList/MeshHeading/DescriptorName')])\n",
    "        except:\n",
    "            pass\n",
    "\n",
    "    # create a dictionary of the MeSH terms and their counts (count MeSH frequency)\n",
    "    mesh_terms_dict = {}\n",
    "    for term in mesh_terms:\n",
    "        if term in mesh_terms_dict:\n",
    "            mesh_terms_dict[term] += 1\n",
    "        else:\n",
    "            mesh_terms_dict[term] = 1\n",
    "    \n",
    "    return mesh_terms_dict"
   ]
  },
  {
   "cell_type": "code",
   "execution_count": 27,
   "metadata": {},
   "outputs": [
    {
     "data": {
      "text/plain": [
       "'What can we immediately learn from this data?'"
      ]
     },
     "execution_count": 27,
     "metadata": {},
     "output_type": "execute_result"
    },
    {
     "data": {
      "image/png": "[encoded data removed]",
      "text/plain": [
       "<Figure size 640x480 with 1 Axes>"
      ]
     },
     "metadata": {},
     "output_type": "display_data"
    }
   ],
   "source": [
    "#extract the MeSH term data for all the \"Rett Syndrome[MH]\" papers\n",
    "pmids = q1_ids # this we derived right at the top of the notebook\n",
    "\n",
    "mesh_dict = pubmed_fetch_mesh_terms(pmids, api_key, email)\n",
    "\n",
    "# sort the dictionary by the counts\n",
    "sorted_mesh_dict = dict(sorted(mesh_dict.items(), key=lambda item: item[1], reverse=True))\n",
    "\n",
    "# plot the top 10 MeSH terms\n",
    "plt.barh(list(sorted_mesh_dict.keys())[:10], list(sorted_mesh_dict.values())[:10]);\n",
    "\n",
    "'''What can we immediately learn from this data?'''"
   ]
  },
  {
   "cell_type": "code",
   "execution_count": 28,
   "metadata": {},
   "outputs": [],
   "source": [
    "'''lets use eLink to find any OMIM records that refer to these papers.\n",
    "Remember OMIM - Online Mendelian Inheritance in Man - is a curated database of human genes and genetic disorders\n",
    "If using link name, don't need \"database from\" and \"database to\" commands, returns exactly what you need.'''\n",
    "\n",
    "def get_pubmed_omim(pmids):\n",
    "\n",
    "    # NB you can see all the links (an astonishing number)\n",
    "    # https://eutils.ncbi.nlm.nih.gov/entrez/query/static/entrezlinks.html#pubmed\n",
    "    # we are going to use the pubmed_omim_calculated link as this finds OMIM records that cite our papers\n",
    "\n",
    "    # convert the list of pmids to a string where each pmid is preceded by 'id=' and separated by an &\n",
    "    pmid_string = '&id='.join(pmids)\n",
    "    \n",
    "    # Define the parameters for the eSearch request\n",
    "    # Notice how we don't have to specify the dbfrom and db elements if we use the linkname\n",
    "    elink_params = {\n",
    "        'linkname': 'pubmed_omim_calculated',\n",
    "        'api_key': api_key,\n",
    "        'email': email,\n",
    "    }\n",
    "    # encode the parameters so they can be passed to the API\n",
    "    encoded_data = urllib.parse.urlencode(elink_params).encode('utf-8')\n",
    "    encoded_data = encoded_data + pmid_string.encode('utf-8')\n",
    "\n",
    "    # the base request url for eSearch\n",
    "    url = f\"https://eutils.ncbi.nlm.nih.gov/entrez/eutils/elink.fcgi\"\n",
    "\n",
    "    # make the request\n",
    "    request = urllib.request.Request(url, data=encoded_data)\n",
    "    response = urllib.request.urlopen(request)\n",
    "    \n",
    "    # read into an XML object\n",
    "    elink_data_XML = ET.fromstring(response.read())\n",
    "\n",
    "    # list to store the pubmed_ids of the cited papers\n",
    "    omim_records = []\n",
    "\n",
    "    # extract the gene ids from the links\n",
    "    for link in elink_data_XML.findall('LinkSet/LinkSetDb/Link/Id'):\n",
    "        omim_records.append(link.text)\n",
    "\n",
    "    return omim_records\n",
    "'''Pull the papers, and then do an analysis.'''\n"
   ]
  },
  {
   "cell_type": "code",
   "execution_count": null,
   "metadata": {},
   "outputs": [],
   "source": [
    "'''Note that all the equeries have the same structure!'''"
   ]
  },
  {
   "cell_type": "code",
   "execution_count": 29,
   "metadata": {},
   "outputs": [
    {
     "name": "stdout",
     "output_type": "stream",
     "text": [
      "There are 285 unique OMIM records linked to the papers\n"
     ]
    }
   ],
   "source": [
    "# create a list of OMIM entries linked to the papers\n",
    "omim_records = get_pubmed_omim(pmids)\n",
    "\n",
    "# find the unique gene ids from the list\n",
    "unique_omim_records = list(set(omim_records))\n",
    "\n",
    "# print the number of unique records\n",
    "print(f'There are',len(unique_omim_records),'unique OMIM records linked to the papers')"
   ]
  },
  {
   "cell_type": "code",
   "execution_count": 162,
   "metadata": {},
   "outputs": [],
   "source": [
    "# use eSummary to retrieve the titles of the OMIM records\n",
    "def get_omim_titles(omim_records):\n",
    "\n",
    "    # convert the list of omim records to a string where each omim record is followed by a [MIM] in an 'OR' separated string\n",
    "    omim_string = ' OR '.join([record + '[MIM ID]' for record in omim_records])\n",
    "    \n",
    "    # Define the parameters for the eSearch request\n",
    "    esearch_params = {\n",
    "        'db': 'omim',\n",
    "        'term': omim_string,\n",
    "        'api_key': api_key,\n",
    "        'email': email,\n",
    "        'usehistory': 'y'\n",
    "    }\n",
    "\n",
    "    # encode the parameters so they can be passed to the API\n",
    "    encoded_data = urllib.parse.urlencode(esearch_params).encode('utf-8')\n",
    "\n",
    "    # the base request url for eSearch\n",
    "    url = f\"https://eutils.ncbi.nlm.nih.gov/entrez/eutils/esearch.fcgi\"\n",
    "\n",
    "    # make the request\n",
    "    request = urllib.request.Request(url, data=encoded_data)\n",
    "    response = urllib.request.urlopen(request)\n",
    "\n",
    "    # read into an XML object\n",
    "    esearch_data_XML = ET.fromstring(response.read())\n",
    "\n",
    "    # extract the WebEnv and QueryKey\n",
    "    webenv = esearch_data_XML.find('WebEnv').text\n",
    "    query_key = esearch_data_XML.find('QueryKey').text\n",
    "\n",
    "    # define the parameters for the eSummary request\n",
    "    esummary_params = {\n",
    "        'db': 'pubmed',\n",
    "        'query_key': query_key,\n",
    "        'WebEnv': webenv,\n",
    "        'api_key': api_key,\n",
    "        'email': email\n",
    "    }\n",
    "\n",
    "    # encode the parameters so they can be passed to the API\n",
    "    encoded_data = urllib.parse.urlencode(esummary_params).encode('utf-8')\n",
    "\n",
    "    # the base request url for eSearch\n",
    "    url = f\"https://eutils.ncbi.nlm.nih.gov/entrez/eutils/esummary.fcgi\"\n",
    "\n",
    "    # make the request\n",
    "    request = urllib.request.Request(url, data=encoded_data)\n",
    "    response = urllib.request.urlopen(request)\n",
    "\n",
    "    # read into an XML object\n",
    "    esummary_data_XML = ET.fromstring(response.read())\n",
    "\n",
    "    # extract the titles of the OMIM records\n",
    "    omim_titles = {}\n",
    "\n",
    "    for record in esummary_data_XML.findall('DocSum'):\n",
    "        try:\n",
    "            omim_id = record.find('Id').text\n",
    "            omim_title = record.find('Item[@Name=\"Title\"]').text\n",
    "            omim_titles[omim_id] = omim_title\n",
    "        except:\n",
    "            pass\n",
    "\n",
    "    return omim_titles"
   ]
  },
  {
   "cell_type": "code",
   "execution_count": null,
   "metadata": {},
   "outputs": [],
   "source": [
    "# get the titles of the OMIM records\n",
    "omim_titles = get_omim_titles(unique_omim_records)\n",
    "\n",
    "# convert this into a dataframe where the index is the OMIM ID and the column is the title\n",
    "'''### YOUR CODE HERE ###'''"
   ]
  },
  {
   "cell_type": "code",
   "execution_count": null,
   "metadata": {},
   "outputs": [],
   "source": [
    "# count the number of times each OMIM record is cited from the omim_records list\n",
    "omim_records_dict = {}\n",
    "\n",
    "for record in omim_records:\n",
    "    '''### YOUR CODE HERE ###'''\n",
    "\n",
    "# sort the dictionary by the counts\n",
    "sorted_omim_records_dict = '''### YOUR CODE HERE ###'''\n",
    "\n",
    "#convert the dictionary to a dataframe\n",
    "df_omim = pd.DataFrame.from_dict(sorted_omim_records_dict, orient='index', columns=['Count'])\n",
    "\n",
    "# merge the dataframe with the omim_names dataframe\n",
    "combined = '''### YOUR CODE HERE ###'''\n",
    "\n",
    "#remove the index column\n",
    "combined.reset_index(inplace=True)\n",
    "\n",
    "#rename the columns\n",
    "combined.columns = ['OMIM ID', 'Count', 'Title']\n",
    "\n",
    "# print the dataframe\n",
    "combined.head()"
   ]
  },
  {
   "cell_type": "code",
   "execution_count": null,
   "metadata": {},
   "outputs": [],
   "source": [
    "# plot the top 10 OMIM records\n",
    "'''### YOUR CODE HERE ###'''"
   ]
  },
  {
   "cell_type": "code",
   "execution_count": null,
   "metadata": {},
   "outputs": [],
   "source": [
    "'''Well Done!'''"
   ]
  }
 ],
 "metadata": {
  "kernelspec": {
   "display_name": "pbi_env1",
   "language": "python",
   "name": "python3"
  },
  "language_info": {
   "codemirror_mode": {
    "name": "ipython",
    "version": 3
   },
   "file_extension": ".py",
   "mimetype": "text/x-python",
   "name": "python",
   "nbconvert_exporter": "python",
   "pygments_lexer": "ipython3",
   "version": "3.12.6"
  }
 },
 "nbformat": 4,
 "nbformat_minor": 2
}
