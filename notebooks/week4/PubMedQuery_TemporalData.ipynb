{
 "cells": [
  {
   "cell_type": "code",
   "execution_count": 23,
   "metadata": {},
   "outputs": [],
   "source": [
    "from Bio import Entrez\n",
    "import pandas as pd\n",
    "\n",
    "#dicdtionary to store the counts of papers per year\n",
    "RNAseq_counts = {}\n",
    "\n",
    "#read in your email from a file\n",
    "with open('../../api_keys/ncbi_email.txt', 'r') as file:\n",
    "    email = file.read().replace('\\n', '')\n",
    "\n",
    "#set up Entrez\n",
    "Entrez.email = email\n",
    "\n",
    "#search for papers with RNA-seq in the title or abstract for each year\n",
    "for i in range(2007,2023,1):\n",
    "    handle = Entrez.esearch(db='pubmed',term=str(i)+'[dp] AND RNA-seq[TIAB]')\n",
    "    record = Entrez.read(handle)\n",
    "    handle.close()\n",
    "    # we can iterate through the record and only return the 'nucleotide' result\n",
    "    for row in record:\n",
    "        if row == 'Count':\n",
    "            RNAseq_counts[i] = int(record[row])"
   ]
  },
  {
   "cell_type": "code",
   "execution_count": null,
   "metadata": {},
   "outputs": [],
   "source": [
    "#convert the dictionary to a pandas dataframe with columns year and paper count\n",
    "rnaseq_papers_by_year = pd.DataFrame(list(RNAseq_counts.items()), columns=['year', 'paper_count'])\n",
    "\n",
    "rnaseq_papers_by_year.head()"
   ]
  },
  {
   "cell_type": "code",
   "execution_count": null,
   "metadata": {},
   "outputs": [],
   "source": [
    "#plot the data as a line plot\n",
    "import matplotlib.pyplot as plt\n",
    "\n",
    "plt.plot(rnaseq_papers_by_year['year'], rnaseq_papers_by_year['paper_count'])\n",
    "plt.xlabel('Year')\n",
    "plt.ylabel('Number of RNA-seq papers')\n",
    "plt.title('Number of RNA-seq papers per year')\n",
    "plt.show()\n",
    "\n",
    "#EEK!"
   ]
  }
 ],
 "metadata": {
  "kernelspec": {
   "display_name": "pbi_dev",
   "language": "python",
   "name": "python3"
  },
  "language_info": {
   "codemirror_mode": {
    "name": "ipython",
    "version": 3
   },
   "file_extension": ".py",
   "mimetype": "text/x-python",
   "name": "python",
   "nbconvert_exporter": "python",
   "pygments_lexer": "ipython3",
   "version": "3.10.14"
  }
 },
 "nbformat": 4,
 "nbformat_minor": 2
}
