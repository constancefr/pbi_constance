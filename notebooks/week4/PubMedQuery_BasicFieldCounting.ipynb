{
 "cells": [
  {
   "cell_type": "code",
   "execution_count": null,
   "metadata": {},
   "outputs": [],
   "source": [
    "from Bio import Entrez\n",
    "\n",
    "#read in your email from a file\n",
    "with open('../../api_keys/ncbi_email.txt', 'r') as file:\n",
    "    email = file.read().replace('\\n', '')\n",
    "\n",
    "#set up Entrez\n",
    "Entrez.email = email\n",
    "\n",
    "#search 1 - for autism spectrum disorder\n",
    "handle = Entrez.esearch(db='pubmed',term='Autism Spectrum Disorder')\n",
    "record = Entrez.read(handle)\n",
    "handle.close()\n",
    "\n",
    "# print the number of records found\n",
    "print(record['Count'])"
   ]
  },
  {
   "cell_type": "code",
   "execution_count": null,
   "metadata": {},
   "outputs": [],
   "source": [
    "#search 2 - for autism\n",
    "handle = Entrez.esearch(db='pubmed',term='Autism')\n",
    "record = Entrez.read(handle)\n",
    "handle.close()\n",
    "\n",
    "print(record['Count'])"
   ]
  },
  {
   "cell_type": "code",
   "execution_count": null,
   "metadata": {},
   "outputs": [],
   "source": [
    "#search 3 - for autism spectrum disorder using MeSH\n",
    "handle = Entrez.esearch(db='pubmed',term='\"Autism Spectrum Disorder\"'+'[MH]')\n",
    "record = Entrez.read(handle)\n",
    "handle.close()\n",
    "\n",
    "print(record['Count'])"
   ]
  }
 ],
 "metadata": {
  "kernelspec": {
   "display_name": "pbi_dev",
   "language": "python",
   "name": "python3"
  },
  "language_info": {
   "codemirror_mode": {
    "name": "ipython",
    "version": 3
   },
   "file_extension": ".py",
   "mimetype": "text/x-python",
   "name": "python",
   "nbconvert_exporter": "python",
   "pygments_lexer": "ipython3",
   "version": "3.10.14"
  }
 },
 "nbformat": 4,
 "nbformat_minor": 2
}
