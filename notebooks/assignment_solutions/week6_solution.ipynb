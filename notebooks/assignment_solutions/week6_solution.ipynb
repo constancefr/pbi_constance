{
 "cells": [
  {
   "cell_type": "markdown",
   "metadata": {},
   "source": [
    "### Programming for Biomedical Informatics\n",
    "#### Week 6 Assignment - Searching NCBI GEO for RNA-seq data\n",
    "\n",
    "In this weekly mini assignment you will practice using eUtils to query NCBI GEO.\n",
    "\n",
    "- if you want to use the Bio:Entrez module make sure that you've installed Biopython\n",
    "- you should already have a free NCBI account so that you can get an API key, but if not please register for an NCBI account\n",
    "- you have the option of Bio:Enrtez or the ```requests``` API approach."
   ]
  },
  {
   "cell_type": "code",
   "execution_count": 1,
   "metadata": {},
   "outputs": [],
   "source": [
    "# code snippet to find papers that a paper cites\n",
    "import urllib.request\n",
    "import xml.etree.ElementTree as ET\n",
    "\n",
    "# load my API key from the file\n",
    "with open('../../api_keys/ncbi.txt', 'r') as file:\n",
    "    api_key = file.read().strip()\n",
    "\n",
    "with open('../../api_keys/ncbi_email.txt', 'r') as file:\n",
    "    email = file.read().strip()"
   ]
  },
  {
   "cell_type": "code",
   "execution_count": 55,
   "metadata": {},
   "outputs": [],
   "source": [
    "def search_GEO(query):\n",
    "\n",
    "    # Define the parameters for the eSearch request\n",
    "    esearch_params = {\n",
    "        'db': 'gds',\n",
    "        'term': query,\n",
    "        'api_key': api_key,\n",
    "        'email': email,\n",
    "        'usehistory': 'y'\n",
    "    }\n",
    "\n",
    "    # encode the parameters so they can be passed to the API\n",
    "    encoded_data = urllib.parse.urlencode(esearch_params).encode('utf-8')\n",
    "\n",
    "    # the base request url for eSearch\n",
    "    url = f\"https://eutils.ncbi.nlm.nih.gov/entrez/eutils/esearch.fcgi\"\n",
    "\n",
    "    # make the request\n",
    "    request = urllib.request.Request(url, data=encoded_data)\n",
    "    response = urllib.request.urlopen(request)\n",
    "\n",
    "    # read into an XML object\n",
    "    esaerch_data_XML = ET.fromstring(response.read())\n",
    "\n",
    "    #print the number of counts\n",
    "    count = esaerch_data_XML.find('Count').text\n",
    "\n",
    "    print(f\"Found {count} records with query: {query}\")\n",
    "\n",
    "    # Extract WebEnv and QueryKey\n",
    "    webenv = esaerch_data_XML.find('WebEnv').text\n",
    "    query_key = esaerch_data_XML.find('QueryKey').text\n",
    "\n",
    "    return(esaerch_data_XML, webenv, query_key)\n",
    "\n",
    "def get_FTPlinks(webenv, query_key):\n",
    "\n",
    "    # Define the parameters for the eFetch request\n",
    "    esummary_params = {\n",
    "    'db': 'gds',\n",
    "    'query_key': query_key,\n",
    "    'WebEnv': webenv,\n",
    "    'api_key': api_key,\n",
    "    'email': email\n",
    "    }\n",
    "\n",
    "    # encode the parameters so they can be passed to the API\n",
    "    encoded_data = urllib.parse.urlencode(esummary_params).encode('utf-8')\n",
    "\n",
    "    # the base request url for eSummary\n",
    "    url = f\"https://eutils.ncbi.nlm.nih.gov/entrez/eutils/esummary.fcgi\"\n",
    "\n",
    "    # make the request\n",
    "    request = urllib.request.Request(url, data=encoded_data)\n",
    "    response = urllib.request.urlopen(request)\n",
    "\n",
    "    # read into an XML object\n",
    "    esummary_data_XML = ET.fromstring(response.read())\n",
    "\n",
    "    # extact the ftp links\n",
    "    ftp_elements = esummary_data_XML.findall('.//Item[@Name=\"FTPLink\"]')\n",
    "    ftp_links = [element.text for element in ftp_elements]\n",
    "\n",
    "    # remove the ftp:// prefix\n",
    "    ftp_links = [link.replace('ftp://', '') for link in ftp_links]\n",
    "\n",
    "    return ftp_links"
   ]
  },
  {
   "cell_type": "code",
   "execution_count": null,
   "metadata": {},
   "outputs": [],
   "source": [
    "# search GEO for RNA-seq data related to Autism Spectrum Disorder\n",
    "result, webenv, query_key = search_GEO('(\"rnaseq counts\"[Filter] AND \"Autism Spectrum Disorder\"[MeSH Terms])')"
   ]
  },
  {
   "cell_type": "code",
   "execution_count": null,
   "metadata": {},
   "outputs": [],
   "source": [
    "# get the ftp links\n",
    "ftp_links = get_FTPlinks(webenv, query_key)\n",
    "\n",
    "# print one ftp link per line\n",
    "for link in ftp_links:\n",
    "    print(link)"
   ]
  }
 ],
 "metadata": {
  "kernelspec": {
   "display_name": "pbi_dev",
   "language": "python",
   "name": "python3"
  },
  "language_info": {
   "codemirror_mode": {
    "name": "ipython",
    "version": 3
   },
   "file_extension": ".py",
   "mimetype": "text/x-python",
   "name": "python",
   "nbconvert_exporter": "python",
   "pygments_lexer": "ipython3",
   "version": "3.10.14"
  }
 },
 "nbformat": 4,
 "nbformat_minor": 2
}
